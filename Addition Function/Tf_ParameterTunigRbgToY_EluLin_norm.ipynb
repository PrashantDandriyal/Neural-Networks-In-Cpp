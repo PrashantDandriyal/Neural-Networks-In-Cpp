{
  "nbformat": 4,
  "nbformat_minor": 0,
  "metadata": {
    "colab": {
      "name": "RBG function approximation RBG to Y",
      "provenance": [],
      "collapsed_sections": []
    },
    "kernelspec": {
      "name": "python3",
      "display_name": "Python 3"
    }
  },
  "cells": [
    {
      "cell_type": "code",
      "metadata": {
        "id": "SVPxSuY1TTCl",
        "colab_type": "code",
        "outputId": "0a8b73af-75a7-4e28-9d99-d4da83358db7",
        "colab": {
          "base_uri": "https://localhost:8080/",
          "height": 367
        }
      },
      "source": [
        "from __future__ import absolute_import, division, print_function, unicode_literals\n",
        "import tensorflow as tf\n",
        "import pandas as pd\n",
        "import matplotlib.pyplot as plt\n",
        "\n",
        "import numpy as np\n"
      ],
      "execution_count": 258,
      "outputs": [
        {
          "output_type": "error",
          "ename": "ModuleNotFoundError",
          "evalue": "ignored",
          "traceback": [
            "\u001b[0;31m---------------------------------------------------------------------------\u001b[0m",
            "\u001b[0;31mModuleNotFoundError\u001b[0m                       Traceback (most recent call last)",
            "\u001b[0;32m<ipython-input-258-a53980e597a5>\u001b[0m in \u001b[0;36m<module>\u001b[0;34m()\u001b[0m\n\u001b[1;32m      2\u001b[0m \u001b[0;32mimport\u001b[0m \u001b[0mtensorflow\u001b[0m \u001b[0;32mas\u001b[0m \u001b[0mtf\u001b[0m\u001b[0;34m\u001b[0m\u001b[0;34m\u001b[0m\u001b[0m\n\u001b[1;32m      3\u001b[0m \u001b[0;32mimport\u001b[0m \u001b[0mpandas\u001b[0m \u001b[0;32mas\u001b[0m \u001b[0mpd\u001b[0m\u001b[0;34m\u001b[0m\u001b[0;34m\u001b[0m\u001b[0m\n\u001b[0;32m----> 4\u001b[0;31m \u001b[0;32mimport\u001b[0m \u001b[0mmatplotlib\u001b[0m\u001b[0;34m.\u001b[0m\u001b[0mpyplot\u001b[0m \u001b[0;32mas\u001b[0m \u001b[0mplt1\u001b[0m\u001b[0;34m,\u001b[0m \u001b[0mplt2\u001b[0m\u001b[0;34m\u001b[0m\u001b[0;34m\u001b[0m\u001b[0m\n\u001b[0m\u001b[1;32m      5\u001b[0m \u001b[0;34m\u001b[0m\u001b[0m\n\u001b[1;32m      6\u001b[0m \u001b[0;32mimport\u001b[0m \u001b[0mnumpy\u001b[0m \u001b[0;32mas\u001b[0m \u001b[0mnp\u001b[0m\u001b[0;34m\u001b[0m\u001b[0;34m\u001b[0m\u001b[0m\n",
            "\u001b[0;31mModuleNotFoundError\u001b[0m: No module named 'plt2'",
            "",
            "\u001b[0;31m---------------------------------------------------------------------------\u001b[0;32m\nNOTE: If your import is failing due to a missing package, you can\nmanually install dependencies using either !pip or !apt.\n\nTo view examples of installing some common dependencies, click the\n\"Open Examples\" button below.\n\u001b[0;31m---------------------------------------------------------------------------\u001b[0m\n"
          ]
        }
      ]
    },
    {
      "cell_type": "code",
      "metadata": {
        "id": "um5aZrPjTVeg",
        "colab_type": "code",
        "colab": {}
      },
      "source": [
        "import logging\n",
        "logger = tf.get_logger()\n",
        "logger.setLevel(logging.ERROR)"
      ],
      "execution_count": 0,
      "outputs": []
    },
    {
      "cell_type": "code",
      "metadata": {
        "id": "pR0fk57lTYAv",
        "colab_type": "code",
        "colab": {}
      },
      "source": [
        "train = pd.read_csv(\"pallet_train.csv\")\n",
        "x = train.drop('summ',axis=1)\n",
        "y = train.summ \n"
      ],
      "execution_count": 0,
      "outputs": []
    },
    {
      "cell_type": "code",
      "metadata": {
        "id": "yiEnOdAVRibG",
        "colab_type": "code",
        "colab": {}
      },
      "source": [
        "#Normalizing\n",
        "MAXX = ((x.max()).max())\n",
        "MAXX = max(MAXX,y.max())\n",
        "\n",
        "x = x/MAXX\n",
        "y = y/MAXX"
      ],
      "execution_count": 0,
      "outputs": []
    },
    {
      "cell_type": "code",
      "metadata": {
        "id": "wqubr8m7lx4y",
        "colab_type": "code",
        "outputId": "b9960bb1-0c87-4ed2-82a3-b84e692dc6d3",
        "colab": {
          "base_uri": "https://localhost:8080/",
          "height": 204
        }
      },
      "source": [
        "x.head()"
      ],
      "execution_count": 154,
      "outputs": [
        {
          "output_type": "execute_result",
          "data": {
            "text/html": [
              "<div>\n",
              "<style scoped>\n",
              "    .dataframe tbody tr th:only-of-type {\n",
              "        vertical-align: middle;\n",
              "    }\n",
              "\n",
              "    .dataframe tbody tr th {\n",
              "        vertical-align: top;\n",
              "    }\n",
              "\n",
              "    .dataframe thead th {\n",
              "        text-align: right;\n",
              "    }\n",
              "</style>\n",
              "<table border=\"1\" class=\"dataframe\">\n",
              "  <thead>\n",
              "    <tr style=\"text-align: right;\">\n",
              "      <th></th>\n",
              "      <th>rr</th>\n",
              "      <th>bb</th>\n",
              "      <th>gg</th>\n",
              "    </tr>\n",
              "  </thead>\n",
              "  <tbody>\n",
              "    <tr>\n",
              "      <th>0</th>\n",
              "      <td>0.115436</td>\n",
              "      <td>0.133852</td>\n",
              "      <td>0.167258</td>\n",
              "    </tr>\n",
              "    <tr>\n",
              "      <th>1</th>\n",
              "      <td>0.125120</td>\n",
              "      <td>0.126643</td>\n",
              "      <td>0.098904</td>\n",
              "    </tr>\n",
              "    <tr>\n",
              "      <th>2</th>\n",
              "      <td>0.121684</td>\n",
              "      <td>0.140799</td>\n",
              "      <td>0.171286</td>\n",
              "    </tr>\n",
              "    <tr>\n",
              "      <th>3</th>\n",
              "      <td>0.084877</td>\n",
              "      <td>0.106004</td>\n",
              "      <td>0.162194</td>\n",
              "    </tr>\n",
              "    <tr>\n",
              "      <th>4</th>\n",
              "      <td>-0.245338</td>\n",
              "      <td>-0.187749</td>\n",
              "      <td>0.144503</td>\n",
              "    </tr>\n",
              "  </tbody>\n",
              "</table>\n",
              "</div>"
            ],
            "text/plain": [
              "         rr        bb        gg\n",
              "0  0.115436  0.133852  0.167258\n",
              "1  0.125120  0.126643  0.098904\n",
              "2  0.121684  0.140799  0.171286\n",
              "3  0.084877  0.106004  0.162194\n",
              "4 -0.245338 -0.187749  0.144503"
            ]
          },
          "metadata": {
            "tags": []
          },
          "execution_count": 154
        }
      ]
    },
    {
      "cell_type": "code",
      "metadata": {
        "id": "SUOw1tIY1os9",
        "colab_type": "code",
        "outputId": "f0cd375f-320e-4bc6-dda2-3daa974f5f89",
        "colab": {
          "base_uri": "https://localhost:8080/",
          "height": 119
        }
      },
      "source": [
        "y.head()"
      ],
      "execution_count": 155,
      "outputs": [
        {
          "output_type": "execute_result",
          "data": {
            "text/plain": [
              "0    0.416547\n",
              "1    0.350668\n",
              "2    0.433769\n",
              "3    0.353075\n",
              "4   -0.288584\n",
              "Name: summ, dtype: float64"
            ]
          },
          "metadata": {
            "tags": []
          },
          "execution_count": 155
        }
      ]
    },
    {
      "cell_type": "code",
      "metadata": {
        "id": "dgrk6lya0Aql",
        "colab_type": "code",
        "colab": {}
      },
      "source": [
        "from sklearn.model_selection import train_test_split"
      ],
      "execution_count": 0,
      "outputs": []
    },
    {
      "cell_type": "code",
      "metadata": {
        "id": "kIZohjGn0EZR",
        "colab_type": "code",
        "colab": {
          "base_uri": "https://localhost:8080/",
          "height": 34
        },
        "outputId": "fb38ada2-63d4-41c3-d6cf-4818cb4cad29"
      },
      "source": [
        "#make the x for train and test (also called validation data) \n",
        "xtrain,xtest,ytrain,ytest = train_test_split(x,y,\n",
        "                                             train_size=.35\n",
        "                                             )\n",
        "print(\"Size of train data: \"+ str(xtrain.shape))"
      ],
      "execution_count": 229,
      "outputs": [
        {
          "output_type": "stream",
          "text": [
            "Size of train data: (8, 3)\n"
          ],
          "name": "stdout"
        }
      ]
    },
    {
      "cell_type": "code",
      "metadata": {
        "id": "9EE_djgHTbeT",
        "colab_type": "code",
        "outputId": "8e6d9394-aada-436a-94cf-ac7c759ac5b5",
        "colab": {
          "base_uri": "https://localhost:8080/",
          "height": 34
        }
      },
      "source": [
        "hidden = tf.keras.layers.Dense(units=10,\n",
        "                               input_shape=[3],\n",
        "                               activation = 'elu'\n",
        "                               )\n",
        "\n",
        "output = tf.keras.layers.Dense(units=1,\n",
        "                               activation = 'linear'\n",
        "                               )\n",
        "\n",
        "model = tf.keras.Sequential([hidden, output])\n",
        "model.compile(loss='mean_squared_error'\n",
        "              )\n",
        "history = model.fit(xtrain,ytrain,\n",
        "                    epochs=1000,\n",
        "                    shuffle= True,\n",
        "                    verbose=False)\n",
        "print(\"Finished training the model\")\n"
      ],
      "execution_count": 238,
      "outputs": [
        {
          "output_type": "stream",
          "text": [
            "Finished training the model\n"
          ],
          "name": "stdout"
        }
      ]
    },
    {
      "cell_type": "code",
      "metadata": {
        "id": "pfRoXxemuPYn",
        "colab_type": "code",
        "outputId": "b4480b7b-204c-43b4-eeb8-d61a44c0c542",
        "colab": {
          "base_uri": "https://localhost:8080/",
          "height": 444
        }
      },
      "source": [
        "import matplotlib.pyplot as plt1\n",
        "\n",
        "plt1.figure(num=None, figsize=(8, 6), dpi=80, facecolor='w', edgecolor='k')\n",
        "\n",
        "plt1.xlabel('Epoch Number')\n",
        "plt1.ylabel(\"Loss Magnitude\")\n",
        "plt1.plot(history.history['loss'])"
      ],
      "execution_count": 259,
      "outputs": [
        {
          "output_type": "execute_result",
          "data": {
            "text/plain": [
              "[<matplotlib.lines.Line2D at 0x7f07852afd30>]"
            ]
          },
          "metadata": {
            "tags": []
          },
          "execution_count": 259
        },
        {
          "output_type": "display_data",
          "data": {
            "image/png": "[encoded data removed]",
            "text/plain": [
              "<Figure size 640x480 with 1 Axes>"
            ]
          },
          "metadata": {
            "tags": []
          }
        }
      ]
    },
    {
      "cell_type": "code",
      "metadata": {
        "id": "m_Kc68gJirlW",
        "colab_type": "code",
        "colab": {}
      },
      "source": [
        "# Make predictions using the test set\n",
        "pred = model.predict(xtest)\n",
        "pred = pred*MAXX"
      ],
      "execution_count": 0,
      "outputs": []
    },
    {
      "cell_type": "code",
      "metadata": {
        "id": "Cu6-wdNh7JzR",
        "colab_type": "code",
        "colab": {}
      },
      "source": [
        "x_axes = xtest.shape[0]\n",
        "x_axes = range(x_axes)"
      ],
      "execution_count": 0,
      "outputs": []
    },
    {
      "cell_type": "code",
      "metadata": {
        "id": "jfkX3BUT7oUC",
        "colab_type": "code",
        "colab": {}
      },
      "source": [
        "ytestt = ytest*MAXX\n",
        "#ytest"
      ],
      "execution_count": 0,
      "outputs": []
    },
    {
      "cell_type": "code",
      "metadata": {
        "id": "zGVRtWtR7qdH",
        "colab_type": "code",
        "colab": {
          "base_uri": "https://localhost:8080/",
          "height": 306
        },
        "outputId": "28c8665d-dd4e-49bf-c5da-2505eaca63fa"
      },
      "source": [
        "pred = list(pred)\n",
        "table = pd.DataFrame(\n",
        "                      {'Expected': ytestt,\n",
        "                       'Predicted' : pred\n",
        "                      })\n",
        "print(table)\n",
        "table.to_csv('elu_lin.csv')"
      ],
      "execution_count": 268,
      "outputs": [
        {
          "output_type": "stream",
          "text": [
            "     Expected     Predicted\n",
            "17  170.50320   [174.40681]\n",
            "20 -277.92718  [-266.20633]\n",
            "0   414.07920   [419.44797]\n",
            "15  350.10360   [354.02982]\n",
            "6   458.89242    [464.4342]\n",
            "2   431.19920    [436.5054]\n",
            "19  274.42896   [279.18784]\n",
            "4  -286.87500   [-269.1825]\n",
            "3   350.98320   [356.54742]\n",
            "22  -94.20716   [-92.96275]\n",
            "18  181.87008   [185.86726]\n",
            "13  -24.13704   [-22.47338]\n",
            "1   348.59062   [353.23596]\n",
            "8   994.07670    [981.7294]\n",
            "11  848.09020   [841.68994]\n",
            "5   383.50054    [389.6225]\n"
          ],
          "name": "stdout"
        }
      ]
    },
    {
      "cell_type": "code",
      "metadata": {
        "id": "CuYB9UVAGRB3",
        "colab_type": "code",
        "outputId": "f3d29127-41b7-460b-cfb1-cb4373043fa0",
        "colab": {
          "base_uri": "https://localhost:8080/",
          "height": 517
        }
      },
      "source": [
        "# Plot outputs\n",
        "import matplotlib.pyplot as plt\n",
        "plt.figure(figsize=(8, 6), dpi=100, facecolor='w', edgecolor='k')\n",
        "plt.title('Result Comparison')\n",
        "\n",
        "plt.xticks(())\n",
        "plt.yticks(())\n",
        "#plt.grid(b=True, which='major',axis='both')\n",
        "plt.legend(('line Expected', 'dot Prediction regressor'),\n",
        "           loc='upper left')\n",
        "plt.scatter(x_axes, ytestt,  color='black')\n",
        "plt.plot(x_axes, pred, color='blue', linewidth=3)\n",
        "plt.show()"
      ],
      "execution_count": 267,
      "outputs": [
        {
          "output_type": "display_data",
          "data": {
            "image/png": "[encoded data removed]",
            "text/plain": [
              "<Figure size 800x600 with 1 Axes>"
            ]
          },
          "metadata": {
            "tags": []
          }
        }
      ]
    },
    {
      "cell_type": "code",
      "metadata": {
        "id": "60IbTqqRW_45",
        "colab_type": "code",
        "colab": {}
      },
      "source": [
        "\n"
      ],
      "execution_count": 0,
      "outputs": []
    }
  ]
}